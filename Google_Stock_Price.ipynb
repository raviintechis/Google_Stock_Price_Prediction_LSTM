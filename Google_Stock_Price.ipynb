{
  "nbformat": 4,
  "nbformat_minor": 0,
  "metadata": {
    "colab": {
      "name": "Google_Stock_Price.ipynb",
      "provenance": [],
      "authorship_tag": "ABX9TyOri6P45JbS0RL1HGRaTxB2",
      "include_colab_link": true
    },
    "kernelspec": {
      "name": "python3",
      "display_name": "Python 3"
    },
    "language_info": {
      "name": "python"
    }
  },
  "cells": [
    {
      "cell_type": "markdown",
      "metadata": {
        "id": "view-in-github",
        "colab_type": "text"
      },
      "source": [
        "<a href=\"https://colab.research.google.com/github/raviintechis/Google_Stock_Price_Prediction_LSTM/blob/main/Google_Stock_Price.ipynb\" target=\"_parent\"><img src=\"https://colab.research.google.com/assets/colab-badge.svg\" alt=\"Open In Colab\"/></a>"
      ]
    },
    {
      "cell_type": "markdown",
      "source": [
        "## PART -I DATA PREPROCESSING"
      ],
      "metadata": {
        "id": "6_GMaSEm1cLZ"
      }
    },
    {
      "cell_type": "code",
      "execution_count": 2,
      "metadata": {
        "id": "YlubNzVOOXLv"
      },
      "outputs": [],
      "source": [
        "#importing the required libraries\n",
        "import numpy as np\n",
        "import pandas as pd\n",
        "import matplotlib.pyplot as plt"
      ]
    },
    {
      "cell_type": "code",
      "source": [
        "#Loading the training set\n",
        "dataset_train = pd.read_csv('Google_Stock_Price_Train.csv')\n",
        "training_set = dataset_train.iloc[:, 1:2].values"
      ],
      "metadata": {
        "id": "vYEcxVynRRXt"
      },
      "execution_count": 3,
      "outputs": []
    },
    {
      "cell_type": "code",
      "source": [
        "dataset_train.shape"
      ],
      "metadata": {
        "colab": {
          "base_uri": "https://localhost:8080/"
        },
        "id": "yvzxTCWftl8o",
        "outputId": "7786c535-a1c9-466c-82ac-4944bdff8a96"
      },
      "execution_count": 4,
      "outputs": [
        {
          "output_type": "execute_result",
          "data": {
            "text/plain": [
              "(1258, 6)"
            ]
          },
          "metadata": {},
          "execution_count": 4
        }
      ]
    },
    {
      "cell_type": "code",
      "source": [
        "dataset_train.head()"
      ],
      "metadata": {
        "colab": {
          "base_uri": "https://localhost:8080/",
          "height": 206
        },
        "id": "hJCDjwuQuHY9",
        "outputId": "ce7a6e5a-c92b-4202-cc80-f4932f74f6b9"
      },
      "execution_count": 5,
      "outputs": [
        {
          "output_type": "execute_result",
          "data": {
            "text/html": [
              "<div>\n",
              "<style scoped>\n",
              "    .dataframe tbody tr th:only-of-type {\n",
              "        vertical-align: middle;\n",
              "    }\n",
              "\n",
              "    .dataframe tbody tr th {\n",
              "        vertical-align: top;\n",
              "    }\n",
              "\n",
              "    .dataframe thead th {\n",
              "        text-align: right;\n",
              "    }\n",
              "</style>\n",
              "<table border=\"1\" class=\"dataframe\">\n",
              "  <thead>\n",
              "    <tr style=\"text-align: right;\">\n",
              "      <th></th>\n",
              "      <th>Date</th>\n",
              "      <th>Open</th>\n",
              "      <th>High</th>\n",
              "      <th>Low</th>\n",
              "      <th>Close</th>\n",
              "      <th>Volume</th>\n",
              "    </tr>\n",
              "  </thead>\n",
              "  <tbody>\n",
              "    <tr>\n",
              "      <th>0</th>\n",
              "      <td>1/3/2012</td>\n",
              "      <td>325.25</td>\n",
              "      <td>332.83</td>\n",
              "      <td>324.97</td>\n",
              "      <td>663.59</td>\n",
              "      <td>7,380,500</td>\n",
              "    </tr>\n",
              "    <tr>\n",
              "      <th>1</th>\n",
              "      <td>1/4/2012</td>\n",
              "      <td>331.27</td>\n",
              "      <td>333.87</td>\n",
              "      <td>329.08</td>\n",
              "      <td>666.45</td>\n",
              "      <td>5,749,400</td>\n",
              "    </tr>\n",
              "    <tr>\n",
              "      <th>2</th>\n",
              "      <td>1/5/2012</td>\n",
              "      <td>329.83</td>\n",
              "      <td>330.75</td>\n",
              "      <td>326.89</td>\n",
              "      <td>657.21</td>\n",
              "      <td>6,590,300</td>\n",
              "    </tr>\n",
              "    <tr>\n",
              "      <th>3</th>\n",
              "      <td>1/6/2012</td>\n",
              "      <td>328.34</td>\n",
              "      <td>328.77</td>\n",
              "      <td>323.68</td>\n",
              "      <td>648.24</td>\n",
              "      <td>5,405,900</td>\n",
              "    </tr>\n",
              "    <tr>\n",
              "      <th>4</th>\n",
              "      <td>1/9/2012</td>\n",
              "      <td>322.04</td>\n",
              "      <td>322.29</td>\n",
              "      <td>309.46</td>\n",
              "      <td>620.76</td>\n",
              "      <td>11,688,800</td>\n",
              "    </tr>\n",
              "  </tbody>\n",
              "</table>\n",
              "</div>"
            ],
            "text/plain": [
              "       Date    Open    High     Low   Close      Volume\n",
              "0  1/3/2012  325.25  332.83  324.97  663.59   7,380,500\n",
              "1  1/4/2012  331.27  333.87  329.08  666.45   5,749,400\n",
              "2  1/5/2012  329.83  330.75  326.89  657.21   6,590,300\n",
              "3  1/6/2012  328.34  328.77  323.68  648.24   5,405,900\n",
              "4  1/9/2012  322.04  322.29  309.46  620.76  11,688,800"
            ]
          },
          "metadata": {},
          "execution_count": 5
        }
      ]
    },
    {
      "cell_type": "code",
      "source": [
        "training_set.shape"
      ],
      "metadata": {
        "colab": {
          "base_uri": "https://localhost:8080/"
        },
        "id": "WQaT73-_tqX3",
        "outputId": "4eed204a-70fd-42f4-ffe7-8a4ae82903da"
      },
      "execution_count": 6,
      "outputs": [
        {
          "output_type": "execute_result",
          "data": {
            "text/plain": [
              "(1258, 1)"
            ]
          },
          "metadata": {},
          "execution_count": 6
        }
      ]
    },
    {
      "cell_type": "code",
      "source": [
        "#Feature scaling\n",
        "from sklearn.preprocessing import MinMaxScaler\n",
        "sc = MinMaxScaler(feature_range = (0, 1))\n",
        "training_set_scaled = sc.fit_transform(training_set)"
      ],
      "metadata": {
        "id": "iqhZtKjDTu36"
      },
      "execution_count": 7,
      "outputs": []
    },
    {
      "cell_type": "code",
      "source": [
        "training_set_scaled.shape"
      ],
      "metadata": {
        "colab": {
          "base_uri": "https://localhost:8080/"
        },
        "id": "DiiLhTyat2GD",
        "outputId": "938461a1-c81c-4a99-eae8-51d22f2a4e0b"
      },
      "execution_count": 8,
      "outputs": [
        {
          "output_type": "execute_result",
          "data": {
            "text/plain": [
              "(1258, 1)"
            ]
          },
          "metadata": {},
          "execution_count": 8
        }
      ]
    },
    {
      "cell_type": "code",
      "source": [
        "training_set_scaled"
      ],
      "metadata": {
        "colab": {
          "base_uri": "https://localhost:8080/"
        },
        "id": "ztpw9nout9Kq",
        "outputId": "47483f32-552a-4ace-88a4-748f77eb09e5"
      },
      "execution_count": 9,
      "outputs": [
        {
          "output_type": "execute_result",
          "data": {
            "text/plain": [
              "array([[0.08581368],\n",
              "       [0.09701243],\n",
              "       [0.09433366],\n",
              "       ...,\n",
              "       [0.95725128],\n",
              "       [0.93796041],\n",
              "       [0.93688146]])"
            ]
          },
          "metadata": {},
          "execution_count": 9
        }
      ]
    },
    {
      "cell_type": "code",
      "source": [
        "# Creating a data structure with 60 timesteps and 1 outout\n",
        "\n",
        "X_train = []\n",
        "y_train = []\n",
        "for i in range(60, 1258):\n",
        "    X_train.append(training_set_scaled[i-60:i, 0])\n",
        "    y_train.append(training_set_scaled[i, 0])\n",
        "X_train, y_train = np.array(X_train), np.array(y_train)"
      ],
      "metadata": {
        "id": "raEdQX8XftQ5"
      },
      "execution_count": 10,
      "outputs": []
    },
    {
      "cell_type": "code",
      "source": [
        "X_train.shape, y_train.shape"
      ],
      "metadata": {
        "colab": {
          "base_uri": "https://localhost:8080/"
        },
        "id": "7VeNJzIPzZme",
        "outputId": "36a13dca-6ba9-414f-ae0c-a57fa8429a46"
      },
      "execution_count": 11,
      "outputs": [
        {
          "output_type": "execute_result",
          "data": {
            "text/plain": [
              "((1198, 60), (1198,))"
            ]
          },
          "metadata": {},
          "execution_count": 11
        }
      ]
    },
    {
      "cell_type": "code",
      "source": [
        "# Reshaping\n",
        "X_train = np.reshape(X_train, (X_train.shape[0], X_train.shape[1], 1))"
      ],
      "metadata": {
        "id": "Wloce-edkwc7"
      },
      "execution_count": 12,
      "outputs": []
    },
    {
      "cell_type": "markdown",
      "source": [
        "##PART - II : Building LSTM Model"
      ],
      "metadata": {
        "id": "whIWfamN1uHv"
      }
    },
    {
      "cell_type": "code",
      "source": [
        "# importing the keras libraries and packages\n",
        "from keras.models import Sequential\n",
        "from keras.layers import Dense\n",
        "from keras.layers import LSTM\n",
        "from keras.layers import Dropout"
      ],
      "metadata": {
        "id": "iEMF63IN1Ln7"
      },
      "execution_count": 13,
      "outputs": []
    },
    {
      "cell_type": "code",
      "source": [
        "# initialize the RNN\n",
        "regressor = Sequential()"
      ],
      "metadata": {
        "id": "22gbwKum28s0"
      },
      "execution_count": 14,
      "outputs": []
    },
    {
      "cell_type": "code",
      "source": [
        "#Adding the first LSTM layer and some Dropout regularization\n",
        "regressor.add(LSTM(units = 50, return_sequences= True, input_shape = (X_train.shape[1],1)))\n",
        "regressor.add(Dropout(0.2))"
      ],
      "metadata": {
        "id": "E-IxVBsh3LRa"
      },
      "execution_count": 15,
      "outputs": []
    },
    {
      "cell_type": "code",
      "source": [
        "#Adding the second LSTM layer and some Dropout regularization\n",
        "regressor.add(LSTM(units = 50, return_sequences= True))\n",
        "regressor.add(Dropout(0.2))"
      ],
      "metadata": {
        "id": "8meB8Ct7587H"
      },
      "execution_count": 16,
      "outputs": []
    },
    {
      "cell_type": "code",
      "source": [
        "#Adding the third LSTM layer and some Dropout regularization\n",
        "regressor.add(LSTM(units = 50, return_sequences= True))\n",
        "regressor.add(Dropout(0.2))"
      ],
      "metadata": {
        "id": "C9BC6KVnCMYO"
      },
      "execution_count": 17,
      "outputs": []
    },
    {
      "cell_type": "code",
      "source": [
        "#Adding the fourth LSTM layer and some Dropout regularization\n",
        "regressor.add(LSTM(units = 50))\n",
        "regressor.add(Dropout(0.2))"
      ],
      "metadata": {
        "id": "BdVpri8FCQMP"
      },
      "execution_count": 18,
      "outputs": []
    },
    {
      "cell_type": "code",
      "source": [
        "#Adding the output layer\n",
        "regressor.add(Dense(units = 1))"
      ],
      "metadata": {
        "id": "CRUuakmrDTaC"
      },
      "execution_count": 19,
      "outputs": []
    },
    {
      "cell_type": "code",
      "source": [
        "#Compiling the RNN\n",
        "regressor.compile(optimizer = 'adam', loss = 'mean_squared_error')"
      ],
      "metadata": {
        "id": "fYmdjbF1Eejd"
      },
      "execution_count": 20,
      "outputs": []
    },
    {
      "cell_type": "code",
      "source": [
        "# Fitting the RNN to the Training set\n",
        "regressor.fit(X_train, y_train, epochs = 100, batch_size = 32)"
      ],
      "metadata": {
        "colab": {
          "base_uri": "https://localhost:8080/"
        },
        "id": "mDimyPLzH3zz",
        "outputId": "fc56f335-f297-4ee0-a01e-af229619911f"
      },
      "execution_count": 21,
      "outputs": [
        {
          "output_type": "stream",
          "name": "stdout",
          "text": [
            "Epoch 1/100\n",
            "38/38 [==============================] - 13s 132ms/step - loss: 0.0433\n",
            "Epoch 2/100\n",
            "38/38 [==============================] - 5s 127ms/step - loss: 0.0065\n",
            "Epoch 3/100\n",
            "38/38 [==============================] - 5s 123ms/step - loss: 0.0060\n",
            "Epoch 4/100\n",
            "38/38 [==============================] - 5s 128ms/step - loss: 0.0056\n",
            "Epoch 5/100\n",
            "38/38 [==============================] - 5s 130ms/step - loss: 0.0054\n",
            "Epoch 6/100\n",
            "38/38 [==============================] - 5s 127ms/step - loss: 0.0053\n",
            "Epoch 7/100\n",
            "38/38 [==============================] - 5s 126ms/step - loss: 0.0050\n",
            "Epoch 8/100\n",
            "38/38 [==============================] - 5s 131ms/step - loss: 0.0054\n",
            "Epoch 9/100\n",
            "38/38 [==============================] - 5s 129ms/step - loss: 0.0043\n",
            "Epoch 10/100\n",
            "38/38 [==============================] - 5s 126ms/step - loss: 0.0046\n",
            "Epoch 11/100\n",
            "38/38 [==============================] - 5s 126ms/step - loss: 0.0044\n",
            "Epoch 12/100\n",
            "38/38 [==============================] - 5s 129ms/step - loss: 0.0041\n",
            "Epoch 13/100\n",
            "38/38 [==============================] - 5s 130ms/step - loss: 0.0042\n",
            "Epoch 14/100\n",
            "38/38 [==============================] - 5s 128ms/step - loss: 0.0042\n",
            "Epoch 15/100\n",
            "38/38 [==============================] - 5s 127ms/step - loss: 0.0040\n",
            "Epoch 16/100\n",
            "38/38 [==============================] - 5s 133ms/step - loss: 0.0038\n",
            "Epoch 17/100\n",
            "38/38 [==============================] - 5s 134ms/step - loss: 0.0037\n",
            "Epoch 18/100\n",
            "38/38 [==============================] - 5s 128ms/step - loss: 0.0037\n",
            "Epoch 19/100\n",
            "38/38 [==============================] - 5s 128ms/step - loss: 0.0039\n",
            "Epoch 20/100\n",
            "38/38 [==============================] - 5s 133ms/step - loss: 0.0035\n",
            "Epoch 21/100\n",
            "38/38 [==============================] - 5s 134ms/step - loss: 0.0035\n",
            "Epoch 22/100\n",
            "38/38 [==============================] - 5s 129ms/step - loss: 0.0033\n",
            "Epoch 23/100\n",
            "38/38 [==============================] - 5s 129ms/step - loss: 0.0035\n",
            "Epoch 24/100\n",
            "38/38 [==============================] - 5s 127ms/step - loss: 0.0034\n",
            "Epoch 25/100\n",
            "38/38 [==============================] - 5s 131ms/step - loss: 0.0032\n",
            "Epoch 26/100\n",
            "38/38 [==============================] - 5s 127ms/step - loss: 0.0031\n",
            "Epoch 27/100\n",
            "38/38 [==============================] - 5s 127ms/step - loss: 0.0033\n",
            "Epoch 28/100\n",
            "38/38 [==============================] - 5s 131ms/step - loss: 0.0032\n",
            "Epoch 29/100\n",
            "38/38 [==============================] - 5s 132ms/step - loss: 0.0031\n",
            "Epoch 30/100\n",
            "38/38 [==============================] - 5s 127ms/step - loss: 0.0026\n",
            "Epoch 31/100\n",
            "38/38 [==============================] - 5s 126ms/step - loss: 0.0032\n",
            "Epoch 32/100\n",
            "38/38 [==============================] - 5s 130ms/step - loss: 0.0034\n",
            "Epoch 33/100\n",
            "38/38 [==============================] - 5s 133ms/step - loss: 0.0031\n",
            "Epoch 34/100\n",
            "38/38 [==============================] - 5s 127ms/step - loss: 0.0032\n",
            "Epoch 35/100\n",
            "38/38 [==============================] - 5s 128ms/step - loss: 0.0030\n",
            "Epoch 36/100\n",
            "38/38 [==============================] - 5s 129ms/step - loss: 0.0028\n",
            "Epoch 37/100\n",
            "38/38 [==============================] - 5s 130ms/step - loss: 0.0025\n",
            "Epoch 38/100\n",
            "38/38 [==============================] - 5s 128ms/step - loss: 0.0026\n",
            "Epoch 39/100\n",
            "38/38 [==============================] - 5s 128ms/step - loss: 0.0028\n",
            "Epoch 40/100\n",
            "38/38 [==============================] - 5s 129ms/step - loss: 0.0025\n",
            "Epoch 41/100\n",
            "38/38 [==============================] - 5s 133ms/step - loss: 0.0027\n",
            "Epoch 42/100\n",
            "38/38 [==============================] - 5s 131ms/step - loss: 0.0027\n",
            "Epoch 43/100\n",
            "38/38 [==============================] - 5s 126ms/step - loss: 0.0026\n",
            "Epoch 44/100\n",
            "38/38 [==============================] - 5s 127ms/step - loss: 0.0022\n",
            "Epoch 45/100\n",
            "38/38 [==============================] - 5s 132ms/step - loss: 0.0022\n",
            "Epoch 46/100\n",
            "38/38 [==============================] - 5s 126ms/step - loss: 0.0026\n",
            "Epoch 47/100\n",
            "38/38 [==============================] - 5s 126ms/step - loss: 0.0027\n",
            "Epoch 48/100\n",
            "38/38 [==============================] - 5s 126ms/step - loss: 0.0024\n",
            "Epoch 49/100\n",
            "38/38 [==============================] - 5s 129ms/step - loss: 0.0023\n",
            "Epoch 50/100\n",
            "38/38 [==============================] - 5s 127ms/step - loss: 0.0024\n",
            "Epoch 51/100\n",
            "38/38 [==============================] - 5s 126ms/step - loss: 0.0024\n",
            "Epoch 52/100\n",
            "38/38 [==============================] - 5s 128ms/step - loss: 0.0024\n",
            "Epoch 53/100\n",
            "38/38 [==============================] - 5s 129ms/step - loss: 0.0023\n",
            "Epoch 54/100\n",
            "38/38 [==============================] - 5s 130ms/step - loss: 0.0026\n",
            "Epoch 55/100\n",
            "38/38 [==============================] - 5s 126ms/step - loss: 0.0022\n",
            "Epoch 56/100\n",
            "38/38 [==============================] - 5s 127ms/step - loss: 0.0020\n",
            "Epoch 57/100\n",
            "38/38 [==============================] - 5s 131ms/step - loss: 0.0019\n",
            "Epoch 58/100\n",
            "38/38 [==============================] - 5s 128ms/step - loss: 0.0021\n",
            "Epoch 59/100\n",
            "38/38 [==============================] - 5s 125ms/step - loss: 0.0021\n",
            "Epoch 60/100\n",
            "38/38 [==============================] - 5s 129ms/step - loss: 0.0020\n",
            "Epoch 61/100\n",
            "38/38 [==============================] - 5s 128ms/step - loss: 0.0023\n",
            "Epoch 62/100\n",
            "38/38 [==============================] - 5s 128ms/step - loss: 0.0019\n",
            "Epoch 63/100\n",
            "38/38 [==============================] - 5s 127ms/step - loss: 0.0020\n",
            "Epoch 64/100\n",
            "38/38 [==============================] - 5s 128ms/step - loss: 0.0020\n",
            "Epoch 65/100\n",
            "38/38 [==============================] - 5s 131ms/step - loss: 0.0020\n",
            "Epoch 66/100\n",
            "38/38 [==============================] - 5s 129ms/step - loss: 0.0021\n",
            "Epoch 67/100\n",
            "38/38 [==============================] - 5s 126ms/step - loss: 0.0020\n",
            "Epoch 68/100\n",
            "38/38 [==============================] - 5s 125ms/step - loss: 0.0020\n",
            "Epoch 69/100\n",
            "38/38 [==============================] - 5s 130ms/step - loss: 0.0019\n",
            "Epoch 70/100\n",
            "38/38 [==============================] - 5s 131ms/step - loss: 0.0018\n",
            "Epoch 71/100\n",
            "38/38 [==============================] - 5s 125ms/step - loss: 0.0021\n",
            "Epoch 72/100\n",
            "38/38 [==============================] - 5s 124ms/step - loss: 0.0019\n",
            "Epoch 73/100\n",
            "38/38 [==============================] - 5s 130ms/step - loss: 0.0017\n",
            "Epoch 74/100\n",
            "38/38 [==============================] - 5s 128ms/step - loss: 0.0017\n",
            "Epoch 75/100\n",
            "38/38 [==============================] - 5s 126ms/step - loss: 0.0018\n",
            "Epoch 76/100\n",
            "38/38 [==============================] - 5s 126ms/step - loss: 0.0017\n",
            "Epoch 77/100\n",
            "38/38 [==============================] - 5s 132ms/step - loss: 0.0017\n",
            "Epoch 78/100\n",
            "38/38 [==============================] - 5s 130ms/step - loss: 0.0019\n",
            "Epoch 79/100\n",
            "38/38 [==============================] - 5s 126ms/step - loss: 0.0017\n",
            "Epoch 80/100\n",
            "38/38 [==============================] - 5s 126ms/step - loss: 0.0015\n",
            "Epoch 81/100\n",
            "38/38 [==============================] - 5s 131ms/step - loss: 0.0017\n",
            "Epoch 82/100\n",
            "38/38 [==============================] - 5s 139ms/step - loss: 0.0017\n",
            "Epoch 83/100\n",
            "38/38 [==============================] - 5s 129ms/step - loss: 0.0017\n",
            "Epoch 84/100\n",
            "38/38 [==============================] - 5s 135ms/step - loss: 0.0015\n",
            "Epoch 85/100\n",
            "38/38 [==============================] - 6s 145ms/step - loss: 0.0016\n",
            "Epoch 86/100\n",
            "38/38 [==============================] - 5s 139ms/step - loss: 0.0015\n",
            "Epoch 87/100\n",
            "38/38 [==============================] - 5s 133ms/step - loss: 0.0016\n",
            "Epoch 88/100\n",
            "38/38 [==============================] - 5s 129ms/step - loss: 0.0016\n",
            "Epoch 89/100\n",
            "38/38 [==============================] - 5s 132ms/step - loss: 0.0015\n",
            "Epoch 90/100\n",
            "38/38 [==============================] - 5s 132ms/step - loss: 0.0016\n",
            "Epoch 91/100\n",
            "38/38 [==============================] - 5s 125ms/step - loss: 0.0015\n",
            "Epoch 92/100\n",
            "38/38 [==============================] - 5s 127ms/step - loss: 0.0014\n",
            "Epoch 93/100\n",
            "38/38 [==============================] - 5s 131ms/step - loss: 0.0015\n",
            "Epoch 94/100\n",
            "38/38 [==============================] - 5s 130ms/step - loss: 0.0014\n",
            "Epoch 95/100\n",
            "38/38 [==============================] - 5s 124ms/step - loss: 0.0015\n",
            "Epoch 96/100\n",
            "38/38 [==============================] - 5s 126ms/step - loss: 0.0015\n",
            "Epoch 97/100\n",
            "38/38 [==============================] - 5s 132ms/step - loss: 0.0015\n",
            "Epoch 98/100\n",
            "38/38 [==============================] - 5s 127ms/step - loss: 0.0016\n",
            "Epoch 99/100\n",
            "38/38 [==============================] - 5s 125ms/step - loss: 0.0015\n",
            "Epoch 100/100\n",
            "38/38 [==============================] - 5s 127ms/step - loss: 0.0015\n"
          ]
        },
        {
          "output_type": "execute_result",
          "data": {
            "text/plain": [
              "<keras.callbacks.History at 0x7f27bc927dd0>"
            ]
          },
          "metadata": {},
          "execution_count": 21
        }
      ]
    },
    {
      "cell_type": "markdown",
      "source": [
        "## PART - III: Making the predictions and visualizing results"
      ],
      "metadata": {
        "id": "LeCV1lq4Vg0-"
      }
    },
    {
      "cell_type": "code",
      "source": [
        "#Getting real stcok price of 2017\n",
        "dataset_test = pd.read_csv('Google_Stock_Price_Test.csv')\n",
        "real_stock_price = dataset_test.iloc[:, 1:2].values"
      ],
      "metadata": {
        "id": "vSBURgQFO-id"
      },
      "execution_count": 22,
      "outputs": []
    },
    {
      "cell_type": "code",
      "source": [
        "#Getting the predicted stock price of 2017\n",
        "dataset_total = pd.concat((dataset_train['Open'], dataset_test['Open']), axis = 0)\n",
        "inputs = dataset_total[len(dataset_total) - len(dataset_test) - 60:].values\n",
        "inputs = inputs.reshape(-1, 1)\n",
        "inputs = sc.transform(inputs)\n",
        "X_test = []\n",
        "for i in range(60, 80):\n",
        "    X_test.append(inputs[i-60:i, 0])\n",
        "X_test = np.array(X_test)\n",
        "X_test = np.reshape(X_test,  (X_test.shape[0], X_test.shape[1], 1))\n",
        "predicted_stock_price = regressor.predict(X_test)\n",
        "predicted_stock_price = sc.inverse_transform(predicted_stock_price)"
      ],
      "metadata": {
        "id": "dlzyVNjtWNQh"
      },
      "execution_count": 23,
      "outputs": []
    },
    {
      "cell_type": "code",
      "source": [
        "#Visualising the results\n",
        "plt.plot(real_stock_price, color = 'red', label = 'Real Google Stock Price')\n",
        "plt.plot(predicted_stock_price, color = 'blue', label = 'Predicted Google Stock Price')\n",
        "plt.title('Google Stock Price Prediction')\n",
        "plt.xlabel('Time')\n",
        "plt.ylabel('Google Stock Price')\n",
        "plt.legend()\n",
        "plt.show()"
      ],
      "metadata": {
        "id": "T-RtUfQneOZz",
        "colab": {
          "base_uri": "https://localhost:8080/",
          "height": 295
        },
        "outputId": "25c2a0f0-6bba-434a-9638-88c5f4f8b7bb"
      },
      "execution_count": 25,
      "outputs": [
        {
          "output_type": "display_data",
          "data": {
            "image/png": "[encoded data removed]",
            "text/plain": [
              "<Figure size 432x288 with 1 Axes>"
            ]
          },
          "metadata": {
            "needs_background": "light"
          }
        }
      ]
    },
    {
      "cell_type": "code",
      "source": [
        ""
      ],
      "metadata": {
        "id": "Nh2VkTwyait2"
      },
      "execution_count": null,
      "outputs": []
    }
  ]
}